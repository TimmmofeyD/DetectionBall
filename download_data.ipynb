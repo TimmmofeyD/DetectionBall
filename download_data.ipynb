{
 "cells": [
  {
   "cell_type": "code",
   "execution_count": 1,
   "id": "a1cba08d-e8df-486b-a8c7-1903d0ba1c94",
   "metadata": {},
   "outputs": [
    {
     "name": "stdout",
     "output_type": "stream",
     "text": [
      "Requirement already satisfied: SoccerNet in c:\\users\\domav\\appdata\\local\\programs\\python\\python312\\lib\\site-packages (0.1.60)\n",
      "Requirement already satisfied: tqdm in c:\\users\\domav\\appdata\\local\\programs\\python\\python312\\lib\\site-packages (from SoccerNet) (4.66.5)\n",
      "Requirement already satisfied: scikit-video in c:\\users\\domav\\appdata\\local\\programs\\python\\python312\\lib\\site-packages (from SoccerNet) (1.1.11)\n",
      "Requirement already satisfied: matplotlib in c:\\users\\domav\\appdata\\local\\programs\\python\\python312\\lib\\site-packages (from SoccerNet) (3.9.2)\n",
      "Requirement already satisfied: google-measurement-protocol in c:\\users\\domav\\appdata\\local\\programs\\python\\python312\\lib\\site-packages (from SoccerNet) (1.1.0)\n",
      "Requirement already satisfied: pycocoevalcap in c:\\users\\domav\\appdata\\local\\programs\\python\\python312\\lib\\site-packages (from SoccerNet) (1.2)\n",
      "Requirement already satisfied: requests<3.0a0,>=2.0 in c:\\users\\domav\\appdata\\local\\programs\\python\\python312\\lib\\site-packages (from google-measurement-protocol->SoccerNet) (2.32.3)\n",
      "Requirement already satisfied: prices>=1.0.0 in c:\\users\\domav\\appdata\\local\\programs\\python\\python312\\lib\\site-packages (from google-measurement-protocol->SoccerNet) (1.1.1)\n",
      "Requirement already satisfied: contourpy>=1.0.1 in c:\\users\\domav\\appdata\\local\\programs\\python\\python312\\lib\\site-packages (from matplotlib->SoccerNet) (1.3.0)\n",
      "Requirement already satisfied: cycler>=0.10 in c:\\users\\domav\\appdata\\local\\programs\\python\\python312\\lib\\site-packages (from matplotlib->SoccerNet) (0.12.1)\n",
      "Requirement already satisfied: fonttools>=4.22.0 in c:\\users\\domav\\appdata\\local\\programs\\python\\python312\\lib\\site-packages (from matplotlib->SoccerNet) (4.54.1)\n",
      "Requirement already satisfied: kiwisolver>=1.3.1 in c:\\users\\domav\\appdata\\local\\programs\\python\\python312\\lib\\site-packages (from matplotlib->SoccerNet) (1.4.7)\n",
      "Requirement already satisfied: numpy>=1.23 in c:\\users\\domav\\appdata\\local\\programs\\python\\python312\\lib\\site-packages (from matplotlib->SoccerNet) (2.1.2)\n",
      "Requirement already satisfied: packaging>=20.0 in c:\\users\\domav\\appdata\\local\\programs\\python\\python312\\lib\\site-packages (from matplotlib->SoccerNet) (24.1)\n",
      "Requirement already satisfied: pillow>=8 in c:\\users\\domav\\appdata\\local\\programs\\python\\python312\\lib\\site-packages (from matplotlib->SoccerNet) (10.4.0)\n",
      "Requirement already satisfied: pyparsing>=2.3.1 in c:\\users\\domav\\appdata\\local\\programs\\python\\python312\\lib\\site-packages (from matplotlib->SoccerNet) (3.1.4)\n",
      "Requirement already satisfied: python-dateutil>=2.7 in c:\\users\\domav\\appdata\\local\\programs\\python\\python312\\lib\\site-packages (from matplotlib->SoccerNet) (2.9.0.post0)\n",
      "Requirement already satisfied: pycocotools>=2.0.2 in c:\\users\\domav\\appdata\\local\\programs\\python\\python312\\lib\\site-packages (from pycocoevalcap->SoccerNet) (2.0.8)\n",
      "Requirement already satisfied: scipy in c:\\users\\domav\\appdata\\local\\programs\\python\\python312\\lib\\site-packages (from scikit-video->SoccerNet) (1.14.1)\n",
      "Requirement already satisfied: colorama in c:\\users\\domav\\appdata\\local\\programs\\python\\python312\\lib\\site-packages (from tqdm->SoccerNet) (0.4.6)\n",
      "Requirement already satisfied: babel>=2.5.0 in c:\\users\\domav\\appdata\\local\\programs\\python\\python312\\lib\\site-packages (from prices>=1.0.0->google-measurement-protocol->SoccerNet) (2.16.0)\n",
      "Requirement already satisfied: six>=1.5 in c:\\users\\domav\\appdata\\local\\programs\\python\\python312\\lib\\site-packages (from python-dateutil>=2.7->matplotlib->SoccerNet) (1.16.0)\n",
      "Requirement already satisfied: charset-normalizer<4,>=2 in c:\\users\\domav\\appdata\\local\\programs\\python\\python312\\lib\\site-packages (from requests<3.0a0,>=2.0->google-measurement-protocol->SoccerNet) (3.4.0)\n",
      "Requirement already satisfied: idna<4,>=2.5 in c:\\users\\domav\\appdata\\local\\programs\\python\\python312\\lib\\site-packages (from requests<3.0a0,>=2.0->google-measurement-protocol->SoccerNet) (3.10)\n",
      "Requirement already satisfied: urllib3<3,>=1.21.1 in c:\\users\\domav\\appdata\\local\\programs\\python\\python312\\lib\\site-packages (from requests<3.0a0,>=2.0->google-measurement-protocol->SoccerNet) (2.2.3)\n",
      "Requirement already satisfied: certifi>=2017.4.17 in c:\\users\\domav\\appdata\\local\\programs\\python\\python312\\lib\\site-packages (from requests<3.0a0,>=2.0->google-measurement-protocol->SoccerNet) (2024.8.30)\n"
     ]
    }
   ],
   "source": [
    "# Установка библиотеки SoccerNet для загрузки данных\n",
    "!pip install SoccerNet"
   ]
  },
  {
   "cell_type": "code",
   "execution_count": 2,
   "id": "9a61e91c-3680-4cd7-9352-862be71556bd",
   "metadata": {},
   "outputs": [
    {
     "name": "stderr",
     "output_type": "stream",
     "text": [
      "Downloading data/SoccerNetGS\\gamestate-2024\\train.zip...: : 9.76GiB [29:25, 5.53MiB/s]                                 \n",
      "Downloading data/SoccerNetGS\\gamestate-2024\\valid.zip...: : 11.2GiB [11:37, 16.0MiB/s]                                 \n",
      "Downloading data/SoccerNetGS\\gamestate-2024\\test.zip...: : 8.85GiB [08:51, 16.6MiB/s]                                  \n",
      "Downloading data/SoccerNetGS\\gamestate-2024\\challenge.zip...: : 5.31GiB [04:33, 19.4MiB/s]                             \n"
     ]
    }
   ],
   "source": [
    "# Импорт класса SoccerNetDownloader для загрузки данных из SoccerNet\n",
    "from SoccerNet.Downloader import SoccerNetDownloader\n",
    "\n",
    "# Создаем экземпляр класса SoccerNetDownloader и указываем локальную директорию для сохранения данных\n",
    "mySoccerNetDownloader = SoccerNetDownloader(LocalDirectory=\"data/SoccerNetGS\")\n",
    "\n",
    "# Загружаем данные для задачи \"gamestate-2024\" для всех частей набора данных:\n",
    "# \"train\" (обучающая выборка), \"valid\" (валидационная выборка), \"test\" (тестовая выборка) и \"challenge\" (выборка для соревнования)\n",
    "mySoccerNetDownloader.downloadDataTask(task=\"gamestate-2024\",\n",
    "                                       split=[\"train\", \"valid\", \"test\", \"challenge\"])"
   ]
  },
  {
   "cell_type": "code",
   "execution_count": null,
   "id": "2ffd260f-6be3-4d02-bf54-216b38ba9968",
   "metadata": {},
   "outputs": [],
   "source": []
  }
 ],
 "metadata": {
  "kernelspec": {
   "display_name": "Python 3 (ipykernel)",
   "language": "python",
   "name": "python3"
  },
  "language_info": {
   "codemirror_mode": {
    "name": "ipython",
    "version": 3
   },
   "file_extension": ".py",
   "mimetype": "text/x-python",
   "name": "python",
   "nbconvert_exporter": "python",
   "pygments_lexer": "ipython3",
   "version": "3.12.7"
  }
 },
 "nbformat": 4,
 "nbformat_minor": 5
}
